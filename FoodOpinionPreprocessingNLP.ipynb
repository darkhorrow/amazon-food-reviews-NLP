{
 "cells": [
  {
   "cell_type": "code",
   "execution_count": 1,
   "metadata": {},
   "outputs": [],
   "source": [
    "import pandas as pd\n",
    "import string\n",
    "import nltk"
   ]
  },
  {
   "cell_type": "code",
   "execution_count": 2,
   "metadata": {},
   "outputs": [
    {
     "name": "stdout",
     "output_type": "stream",
     "text": [
      "<class 'pandas.core.frame.DataFrame'>\n",
      "RangeIndex: 568454 entries, 0 to 568453\n",
      "Data columns (total 10 columns):\n",
      " #   Column                  Non-Null Count   Dtype \n",
      "---  ------                  --------------   ----- \n",
      " 0   Id                      568454 non-null  int64 \n",
      " 1   ProductId               568454 non-null  object\n",
      " 2   UserId                  568454 non-null  object\n",
      " 3   ProfileName             568438 non-null  object\n",
      " 4   HelpfulnessNumerator    568454 non-null  int64 \n",
      " 5   HelpfulnessDenominator  568454 non-null  int64 \n",
      " 6   Score                   568454 non-null  int64 \n",
      " 7   Time                    568454 non-null  int64 \n",
      " 8   Summary                 568427 non-null  object\n",
      " 9   Text                    568454 non-null  object\n",
      "dtypes: int64(5), object(5)\n",
      "memory usage: 43.4+ MB\n"
     ]
    }
   ],
   "source": [
    "df = pd.read_csv('Reviews.csv')\n",
    "df.info()"
   ]
  },
  {
   "cell_type": "code",
   "execution_count": 3,
   "metadata": {
    "scrolled": true
   },
   "outputs": [
    {
     "data": {
      "text/plain": [
       "0         I have bought several of the Vitality canned d...\n",
       "1         Product arrived labeled as Jumbo Salted Peanut...\n",
       "2         This is a confection that has been around a fe...\n",
       "3         If you are looking for the secret ingredient i...\n",
       "4         Great taffy at a great price.  There was a wid...\n",
       "                                ...                        \n",
       "568449    Great for sesame chicken..this is a good if no...\n",
       "568450    I'm disappointed with the flavor. The chocolat...\n",
       "568451    These stars are small, so you can give 10-15 o...\n",
       "568452    These are the BEST treats for training and rew...\n",
       "568453    I am very satisfied ,product is as advertised,...\n",
       "Name: Text, Length: 568454, dtype: object"
      ]
     },
     "execution_count": 3,
     "metadata": {},
     "output_type": "execute_result"
    }
   ],
   "source": [
    "text = df['Text']\n",
    "text"
   ]
  },
  {
   "cell_type": "markdown",
   "metadata": {},
   "source": [
    "## Preprocessing"
   ]
  },
  {
   "cell_type": "code",
   "execution_count": 4,
   "metadata": {},
   "outputs": [
    {
     "name": "stderr",
     "output_type": "stream",
     "text": [
      "[nltk_data] Downloading package punkt to\n",
      "[nltk_data]     C:\\Users\\Darkhorrow\\AppData\\Roaming\\nltk_data...\n",
      "[nltk_data]   Package punkt is already up-to-date!\n"
     ]
    },
    {
     "data": {
      "text/plain": [
       "True"
      ]
     },
     "execution_count": 4,
     "metadata": {},
     "output_type": "execute_result"
    }
   ],
   "source": [
    "nltk.download('punkt')"
   ]
  },
  {
   "cell_type": "code",
   "execution_count": 5,
   "metadata": {},
   "outputs": [
    {
     "data": {
      "text/plain": [
       "0         i have bought several of the vitality canned d...\n",
       "1         product arrived labeled as jumbo salted peanut...\n",
       "2         this is a confection that has been around a fe...\n",
       "3         if you are looking for the secret ingredient i...\n",
       "4         great taffy at a great price.  there was a wid...\n",
       "                                ...                        \n",
       "568449    great for sesame chicken..this is a good if no...\n",
       "568450    i'm disappointed with the flavor. the chocolat...\n",
       "568451    these stars are small, so you can give 10-15 o...\n",
       "568452    these are the best treats for training and rew...\n",
       "568453    i am very satisfied ,product is as advertised,...\n",
       "Name: Text, Length: 568454, dtype: object"
      ]
     },
     "execution_count": 5,
     "metadata": {},
     "output_type": "execute_result"
    }
   ],
   "source": [
    "text = text.apply(lambda x: x.lower())\n",
    "text"
   ]
  },
  {
   "cell_type": "code",
   "execution_count": 6,
   "metadata": {},
   "outputs": [
    {
     "data": {
      "text/plain": [
       "0         i have bought several of the vitality canned d...\n",
       "1         product arrived labeled as jumbo salted peanut...\n",
       "2         this is a confection that has been around a fe...\n",
       "3         if you are looking for the secret ingredient i...\n",
       "4         great taffy at a great price  there was a wide...\n",
       "                                ...                        \n",
       "568449    great for sesame chickenthis is a good if not ...\n",
       "568450    im disappointed with the flavor the chocolate ...\n",
       "568451    these stars are small so you can give 1015 of ...\n",
       "568452    these are the best treats for training and rew...\n",
       "568453    i am very satisfied product is as advertised i...\n",
       "Name: Text, Length: 568454, dtype: object"
      ]
     },
     "execution_count": 6,
     "metadata": {},
     "output_type": "execute_result"
    }
   ],
   "source": [
    "text = text.apply(lambda x: ''.join([letter for letter in x if letter not in string.punctuation]))\n",
    "text"
   ]
  },
  {
   "cell_type": "code",
   "execution_count": 7,
   "metadata": {},
   "outputs": [
    {
     "data": {
      "text/plain": [
       "0         [i, have, bought, several, of, the, vitality, ...\n",
       "1         [product, arrived, labeled, as, jumbo, salted,...\n",
       "2         [this, is, a, confection, that, has, been, aro...\n",
       "3         [if, you, are, looking, for, the, secret, ingr...\n",
       "4         [great, taffy, at, a, great, price, there, was...\n",
       "                                ...                        \n",
       "568449    [great, for, sesame, chickenthis, is, a, good,...\n",
       "568450    [im, disappointed, with, the, flavor, the, cho...\n",
       "568451    [these, stars, are, small, so, you, can, give,...\n",
       "568452    [these, are, the, best, treats, for, training,...\n",
       "568453    [i, am, very, satisfied, product, is, as, adve...\n",
       "Name: Text, Length: 568454, dtype: object"
      ]
     },
     "execution_count": 7,
     "metadata": {},
     "output_type": "execute_result"
    }
   ],
   "source": [
    "text = text.apply(lambda x: nltk.word_tokenize(x))\n",
    "text"
   ]
  },
  {
   "cell_type": "code",
   "execution_count": 8,
   "metadata": {},
   "outputs": [
    {
     "name": "stderr",
     "output_type": "stream",
     "text": [
      "[nltk_data] Downloading package stopwords to\n",
      "[nltk_data]     C:\\Users\\Darkhorrow\\AppData\\Roaming\\nltk_data...\n",
      "[nltk_data]   Unzipping corpora\\stopwords.zip.\n"
     ]
    },
    {
     "data": {
      "text/plain": [
       "True"
      ]
     },
     "execution_count": 8,
     "metadata": {},
     "output_type": "execute_result"
    }
   ],
   "source": [
    "nltk.download('stopwords')"
   ]
  },
  {
   "cell_type": "code",
   "execution_count": 11,
   "metadata": {},
   "outputs": [],
   "source": [
    "stop_words = nltk.corpus.stopwords.words('english')"
   ]
  },
  {
   "cell_type": "code",
   "execution_count": 12,
   "metadata": {},
   "outputs": [
    {
     "data": {
      "text/plain": [
       "0         [bought, several, vitality, canned, dog, food,...\n",
       "1         [product, arrived, labeled, jumbo, salted, pea...\n",
       "2         [confection, around, centuries, light, pillowy...\n",
       "3         [looking, secret, ingredient, robitussin, beli...\n",
       "4         [great, taffy, great, price, wide, assortment,...\n",
       "                                ...                        \n",
       "568449    [great, sesame, chickenthis, good, better, res...\n",
       "568450    [im, disappointed, flavor, chocolate, notes, e...\n",
       "568451    [stars, small, give, 1015, one, training, sess...\n",
       "568452    [best, treats, training, rewarding, dog, good,...\n",
       "568453    [satisfied, product, advertised, use, cereal, ...\n",
       "Name: Text, Length: 568454, dtype: object"
      ]
     },
     "execution_count": 12,
     "metadata": {},
     "output_type": "execute_result"
    }
   ],
   "source": [
    "text = text.apply(lambda x: [word for word in x if word not in stop_words])\n",
    "text"
   ]
  },
  {
   "cell_type": "code",
   "execution_count": 14,
   "metadata": {},
   "outputs": [
    {
     "data": {
      "text/plain": [
       "0         [bought, sever, vital, can, dog, food, product...\n",
       "1         [product, arriv, label, jumbo, salt, peanutsth...\n",
       "2         [confect, around, centuri, light, pillowi, cit...\n",
       "3         [look, secret, ingredi, robitussin, believ, fo...\n",
       "4         [great, taffi, great, price, wide, assort, yum...\n",
       "                                ...                        \n",
       "568449    [great, sesam, chickenthi, good, better, restu...\n",
       "568450    [im, disappoint, flavor, chocol, note, especi,...\n",
       "568451    [star, small, give, 1015, one, train, session,...\n",
       "568452    [best, treat, train, reward, dog, good, groom,...\n",
       "568453    [satisfi, product, advertis, use, cereal, raw,...\n",
       "Name: Text, Length: 568454, dtype: object"
      ]
     },
     "execution_count": 14,
     "metadata": {},
     "output_type": "execute_result"
    }
   ],
   "source": [
    "stemmer = nltk.stem.PorterStemmer()\n",
    "text = text.apply(lambda x: [stemmer.stem(word) for word in x])\n",
    "text"
   ]
  },
  {
   "cell_type": "code",
   "execution_count": 15,
   "metadata": {},
   "outputs": [
    {
     "data": {
      "text/plain": [
       "0         bought sever vital can dog food product found ...\n",
       "1         product arriv label jumbo salt peanutsth peanu...\n",
       "2         confect around centuri light pillowi citru gel...\n",
       "3         look secret ingredi robitussin believ found go...\n",
       "4         great taffi great price wide assort yummi taff...\n",
       "                                ...                        \n",
       "568449    great sesam chickenthi good better restur eate...\n",
       "568450    im disappoint flavor chocol note especi weak m...\n",
       "568451    star small give 1015 one train session tri tra...\n",
       "568452    best treat train reward dog good groom lower c...\n",
       "568453    satisfi product advertis use cereal raw vinega...\n",
       "Name: Text, Length: 568454, dtype: object"
      ]
     },
     "execution_count": 15,
     "metadata": {},
     "output_type": "execute_result"
    }
   ],
   "source": [
    "df['Text'] = text.apply(lambda x: ' '.join(x))\n",
    "df['Text']"
   ]
  },
  {
   "cell_type": "code",
   "execution_count": 17,
   "metadata": {},
   "outputs": [],
   "source": [
    "df.to_csv('ReviewsPreprocessing.csv', index=False)"
   ]
  }
 ],
 "metadata": {
  "kernelspec": {
   "display_name": "Python 3",
   "language": "python",
   "name": "python3"
  },
  "language_info": {
   "codemirror_mode": {
    "name": "ipython",
    "version": 3
   },
   "file_extension": ".py",
   "mimetype": "text/x-python",
   "name": "python",
   "nbconvert_exporter": "python",
   "pygments_lexer": "ipython3",
   "version": "3.8.3"
  }
 },
 "nbformat": 4,
 "nbformat_minor": 4
}
